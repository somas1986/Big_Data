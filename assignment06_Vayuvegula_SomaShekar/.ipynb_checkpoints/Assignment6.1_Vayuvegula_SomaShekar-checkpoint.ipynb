{
 "cells": [
  {
   "cell_type": "markdown",
   "id": "2d333943",
   "metadata": {},
   "source": [
    "# Assignment 6.1"
   ]
  },
  {
   "cell_type": "code",
   "execution_count": 6,
   "id": "36f3d3ff",
   "metadata": {},
   "outputs": [],
   "source": [
    "#Import libaries\n",
    "import warnings\n",
    "warnings.filterwarnings(\"ignore\")\n",
    "\n",
    "import keras\n",
    "keras.__version__\n",
    "\n",
    "from keras import layers\n",
    "from keras import models\n",
    "\n",
    "from keras.datasets import mnist\n",
    "from keras.models import Sequential, load_model\n",
    "from keras.utils import to_categorical\n",
    "\n",
    "import numpy as np\n",
    "import matplotlib.pyplot as plt\n",
    "\n",
    "from pathlib import Path"
   ]
  },
  {
   "cell_type": "code",
   "execution_count": 7,
   "id": "cb6c492b",
   "metadata": {},
   "outputs": [],
   "source": [
    "results_dir = Path('/Users/somashekarvayuvegula/Documents/Workspace/Big_Data/assignment06_Vayuvegula_SomaShekar/').joinpath('results')\n",
    "results_dir.mkdir(parents=True, exist_ok=True)"
   ]
  },
  {
   "cell_type": "code",
   "execution_count": 8,
   "id": "66c59eb8",
   "metadata": {},
   "outputs": [],
   "source": [
    "model = models.Sequential()\n",
    "model.add(layers.Conv2D(32, (3, 3), activation='relu', input_shape=(28, 28, 1)))\n",
    "model.add(layers.MaxPooling2D((2, 2)))\n",
    "model.add(layers.Conv2D(64, (3, 3), activation='relu'))\n",
    "model.add(layers.MaxPooling2D((2, 2)))\n",
    "model.add(layers.Conv2D(64, (3, 3), activation='relu'))"
   ]
  },
  {
   "cell_type": "code",
   "execution_count": 9,
   "id": "f5073ac5",
   "metadata": {},
   "outputs": [
    {
     "name": "stdout",
     "output_type": "stream",
     "text": [
      "Model: \"sequential_1\"\n",
      "_________________________________________________________________\n",
      " Layer (type)                Output Shape              Param #   \n",
      "=================================================================\n",
      " conv2d_3 (Conv2D)           (None, 26, 26, 32)        320       \n",
      "                                                                 \n",
      " max_pooling2d_2 (MaxPooling  (None, 13, 13, 32)       0         \n",
      " 2D)                                                             \n",
      "                                                                 \n",
      " conv2d_4 (Conv2D)           (None, 11, 11, 64)        18496     \n",
      "                                                                 \n",
      " max_pooling2d_3 (MaxPooling  (None, 5, 5, 64)         0         \n",
      " 2D)                                                             \n",
      "                                                                 \n",
      " conv2d_5 (Conv2D)           (None, 3, 3, 64)          36928     \n",
      "                                                                 \n",
      "=================================================================\n",
      "Total params: 55,744\n",
      "Trainable params: 55,744\n",
      "Non-trainable params: 0\n",
      "_________________________________________________________________\n"
     ]
    }
   ],
   "source": [
    "model.summary()"
   ]
  },
  {
   "cell_type": "code",
   "execution_count": 10,
   "id": "285818cb",
   "metadata": {},
   "outputs": [],
   "source": [
    "model.add(layers.Flatten())\n",
    "model.add(layers.Dense(64, activation='relu'))\n",
    "model.add(layers.Dense(10, activation='softmax'))"
   ]
  },
  {
   "cell_type": "code",
   "execution_count": 11,
   "id": "2601392a",
   "metadata": {},
   "outputs": [
    {
     "name": "stdout",
     "output_type": "stream",
     "text": [
      "Model: \"sequential_1\"\n",
      "_________________________________________________________________\n",
      " Layer (type)                Output Shape              Param #   \n",
      "=================================================================\n",
      " conv2d_3 (Conv2D)           (None, 26, 26, 32)        320       \n",
      "                                                                 \n",
      " max_pooling2d_2 (MaxPooling  (None, 13, 13, 32)       0         \n",
      " 2D)                                                             \n",
      "                                                                 \n",
      " conv2d_4 (Conv2D)           (None, 11, 11, 64)        18496     \n",
      "                                                                 \n",
      " max_pooling2d_3 (MaxPooling  (None, 5, 5, 64)         0         \n",
      " 2D)                                                             \n",
      "                                                                 \n",
      " conv2d_5 (Conv2D)           (None, 3, 3, 64)          36928     \n",
      "                                                                 \n",
      " flatten_1 (Flatten)         (None, 576)               0         \n",
      "                                                                 \n",
      " dense_2 (Dense)             (None, 64)                36928     \n",
      "                                                                 \n",
      " dense_3 (Dense)             (None, 10)                650       \n",
      "                                                                 \n",
      "=================================================================\n",
      "Total params: 93,322\n",
      "Trainable params: 93,322\n",
      "Non-trainable params: 0\n",
      "_________________________________________________________________\n"
     ]
    }
   ],
   "source": [
    "model.summary()"
   ]
  },
  {
   "cell_type": "code",
   "execution_count": 12,
   "id": "f300249e",
   "metadata": {},
   "outputs": [],
   "source": [
    "(train_images, train_labels), (test_images, test_labels) = mnist.load_data()"
   ]
  },
  {
   "cell_type": "code",
   "execution_count": 13,
   "id": "e3cd4e9d",
   "metadata": {},
   "outputs": [
    {
     "name": "stdout",
     "output_type": "stream",
     "text": [
      "Review nine of the training images and labels\n"
     ]
    },
    {
     "data": {
      "image/png": "[encoded data removed]",
      "text/plain": [
       "<Figure size 432x288 with 9 Axes>"
      ]
     },
     "metadata": {},
     "output_type": "display_data"
    }
   ],
   "source": [
    "print(\"Review nine of the training images and labels\")\n",
    "fig = plt.figure()\n",
    "for i in range(9):\n",
    "    plt.subplot(3,3,i+1)\n",
    "    plt.tight_layout()\n",
    "    plt.imshow(train_images[i], cmap='gray', interpolation='none')\n",
    "    plt.title(\"Digit: {}\".format(train_labels[i]))\n",
    "    plt.xticks([])\n",
    "    plt.yticks([])\n",
    "img_file = results_dir.joinpath('Assignment_6.1_Review_of_Nine_Digits.png')\n",
    "plt.savefig(img_file)\n",
    "plt.show()"
   ]
  },
  {
   "cell_type": "code",
   "execution_count": 14,
   "id": "91041758",
   "metadata": {},
   "outputs": [
    {
     "name": "stdout",
     "output_type": "stream",
     "text": [
      "Digit Review\n"
     ]
    },
    {
     "data": {
      "image/png": "[encoded data removed]",
      "text/plain": [
       "<Figure size 432x288 with 1 Axes>"
      ]
     },
     "metadata": {},
     "output_type": "display_data"
    }
   ],
   "source": [
    "print(\"Digit Review\")\n",
    "fig = plt.figure()\n",
    "plt.subplot(2,1,1)\n",
    "plt.imshow(train_images[0], cmap='gray', interpolation='none')\n",
    "plt.title(\"Digit: {}\".format(train_labels[0]))\n",
    "plt.xticks([])\n",
    "plt.yticks([])\n",
    "img_file = results_dir.joinpath('Assignment_6.1_Digit_Review.png')\n",
    "plt.savefig(img_file)\n",
    "plt.show()"
   ]
  },
  {
   "cell_type": "code",
   "execution_count": 15,
   "id": "8ad7c5fe",
   "metadata": {},
   "outputs": [
    {
     "data": {
      "image/png": "[encoded data removed]",
      "text/plain": [
       "<Figure size 432x288 with 1 Axes>"
      ]
     },
     "metadata": {
      "needs_background": "light"
     },
     "output_type": "display_data"
    }
   ],
   "source": [
    "plt.subplot(2,1,2)\n",
    "plt.hist(train_images[0].reshape(784))\n",
    "plt.title(\"Pixel Value Distribution\")\n",
    "img_file = results_dir.joinpath('Assignment_6.1_Pixel_Value_Distribution.png')\n",
    "plt.savefig(img_file)\n",
    "plt.show()"
   ]
  },
  {
   "cell_type": "code",
   "execution_count": 16,
   "id": "52ab00cb",
   "metadata": {},
   "outputs": [],
   "source": [
    "# Reshape and normalize the train and test images\n",
    "\n",
    "train_images = train_images.reshape((60000, 28, 28, 1))\n",
    "train_images = train_images.astype('float32') / 255\n",
    "\n",
    "test_images = test_images.reshape((10000, 28, 28, 1))\n",
    "test_images = test_images.astype('float32') / 255"
   ]
  },
  {
   "cell_type": "code",
   "execution_count": 17,
   "id": "5a8854a2",
   "metadata": {},
   "outputs": [],
   "source": [
    "#Convert to categorical values\n",
    "train_labels = to_categorical(train_labels)\n",
    "test_labels = to_categorical(test_labels)"
   ]
  },
  {
   "cell_type": "code",
   "execution_count": 18,
   "id": "d8cc3753",
   "metadata": {},
   "outputs": [
    {
     "name": "stdout",
     "output_type": "stream",
     "text": [
      "Train_Labels::: \n",
      "\n",
      " [[0. 0. 0. ... 0. 0. 0.]\n",
      " [1. 0. 0. ... 0. 0. 0.]\n",
      " [0. 0. 0. ... 0. 0. 0.]\n",
      " ...\n",
      " [0. 0. 0. ... 0. 0. 0.]\n",
      " [0. 0. 0. ... 0. 0. 0.]\n",
      " [0. 0. 0. ... 0. 1. 0.]]\n",
      "\n",
      "Test_Labels::: \n",
      "\n",
      " [[0. 0. 0. ... 1. 0. 0.]\n",
      " [0. 0. 1. ... 0. 0. 0.]\n",
      " [0. 1. 0. ... 0. 0. 0.]\n",
      " ...\n",
      " [0. 0. 0. ... 0. 0. 0.]\n",
      " [0. 0. 0. ... 0. 0. 0.]\n",
      " [0. 0. 0. ... 0. 0. 0.]]\n"
     ]
    }
   ],
   "source": [
    "#Print categorical values\n",
    "print(\"Train_Labels::: \\n\\n \"+ str(train_labels) + \"\\n\")\n",
    "print(\"Test_Labels::: \\n\\n \"+ str(test_labels))"
   ]
  },
  {
   "cell_type": "code",
   "execution_count": 19,
   "id": "abca88f6",
   "metadata": {},
   "outputs": [],
   "source": [
    "model.compile(optimizer='rmsprop',\n",
    "              loss='categorical_crossentropy',\n",
    "              metrics=['accuracy'])"
   ]
  },
  {
   "cell_type": "code",
   "execution_count": 46,
   "id": "3e2ca050",
   "metadata": {},
   "outputs": [
    {
     "name": "stdout",
     "output_type": "stream",
     "text": [
      "Epoch 1/20\n",
      "469/469 - 21s - loss: 0.0119 - accuracy: 0.9964 - val_loss: 0.0252 - val_accuracy: 0.9926 - 21s/epoch - 46ms/step\n",
      "Epoch 2/20\n",
      "469/469 - 22s - loss: 0.0090 - accuracy: 0.9972 - val_loss: 0.0265 - val_accuracy: 0.9937 - 22s/epoch - 47ms/step\n",
      "Epoch 3/20\n",
      "469/469 - 21s - loss: 0.0074 - accuracy: 0.9977 - val_loss: 0.0350 - val_accuracy: 0.9921 - 21s/epoch - 45ms/step\n",
      "Epoch 4/20\n",
      "469/469 - 23s - loss: 0.0065 - accuracy: 0.9979 - val_loss: 0.0322 - val_accuracy: 0.9919 - 23s/epoch - 48ms/step\n",
      "Epoch 5/20\n",
      "469/469 - 23s - loss: 0.0053 - accuracy: 0.9982 - val_loss: 0.0329 - val_accuracy: 0.9926 - 23s/epoch - 48ms/step\n",
      "Epoch 6/20\n",
      "469/469 - 25s - loss: 0.0050 - accuracy: 0.9984 - val_loss: 0.0367 - val_accuracy: 0.9934 - 25s/epoch - 53ms/step\n",
      "Epoch 7/20\n",
      "469/469 - 25s - loss: 0.0047 - accuracy: 0.9985 - val_loss: 0.0357 - val_accuracy: 0.9934 - 25s/epoch - 52ms/step\n",
      "Epoch 8/20\n",
      "469/469 - 23s - loss: 0.0033 - accuracy: 0.9988 - val_loss: 0.0425 - val_accuracy: 0.9928 - 23s/epoch - 49ms/step\n",
      "Epoch 9/20\n",
      "469/469 - 22s - loss: 0.0031 - accuracy: 0.9990 - val_loss: 0.0498 - val_accuracy: 0.9923 - 22s/epoch - 46ms/step\n",
      "Epoch 10/20\n",
      "469/469 - 22s - loss: 0.0023 - accuracy: 0.9992 - val_loss: 0.0571 - val_accuracy: 0.9919 - 22s/epoch - 47ms/step\n",
      "Epoch 11/20\n",
      "469/469 - 21s - loss: 0.0028 - accuracy: 0.9991 - val_loss: 0.0458 - val_accuracy: 0.9930 - 21s/epoch - 45ms/step\n",
      "Epoch 12/20\n",
      "469/469 - 22s - loss: 0.0030 - accuracy: 0.9990 - val_loss: 0.0507 - val_accuracy: 0.9931 - 22s/epoch - 46ms/step\n",
      "Epoch 13/20\n",
      "469/469 - 20s - loss: 0.0027 - accuracy: 0.9992 - val_loss: 0.0543 - val_accuracy: 0.9902 - 20s/epoch - 43ms/step\n",
      "Epoch 14/20\n",
      "469/469 - 20s - loss: 0.0019 - accuracy: 0.9994 - val_loss: 0.0436 - val_accuracy: 0.9930 - 20s/epoch - 42ms/step\n",
      "Epoch 15/20\n",
      "469/469 - 20s - loss: 0.0023 - accuracy: 0.9994 - val_loss: 0.0534 - val_accuracy: 0.9931 - 20s/epoch - 43ms/step\n",
      "Epoch 16/20\n",
      "469/469 - 18s - loss: 0.0015 - accuracy: 0.9996 - val_loss: 0.0599 - val_accuracy: 0.9928 - 18s/epoch - 38ms/step\n",
      "Epoch 17/20\n",
      "469/469 - 18s - loss: 0.0018 - accuracy: 0.9995 - val_loss: 0.0577 - val_accuracy: 0.9926 - 18s/epoch - 39ms/step\n",
      "Epoch 18/20\n",
      "469/469 - 18s - loss: 0.0015 - accuracy: 0.9996 - val_loss: 0.0635 - val_accuracy: 0.9929 - 18s/epoch - 39ms/step\n",
      "Epoch 19/20\n",
      "469/469 - 18s - loss: 0.0013 - accuracy: 0.9995 - val_loss: 0.0597 - val_accuracy: 0.9933 - 18s/epoch - 39ms/step\n",
      "Epoch 20/20\n",
      "469/469 - 18s - loss: 0.0017 - accuracy: 0.9995 - val_loss: 0.0813 - val_accuracy: 0.9918 - 18s/epoch - 38ms/step\n"
     ]
    }
   ],
   "source": [
    "# Training the model and saving metrics in history\n",
    "history = model.fit(train_images, train_labels,\n",
    "          batch_size=128,\n",
    "          epochs=20,\n",
    "          verbose=2,\n",
    "          validation_data=(test_images, test_labels))"
   ]
  },
  {
   "cell_type": "code",
   "execution_count": 47,
   "id": "f4bd93d4",
   "metadata": {},
   "outputs": [
    {
     "name": "stdout",
     "output_type": "stream",
     "text": [
      "313/313 [==============================] - 3s 8ms/step - loss: 0.0813 - accuracy: 0.9918\n",
      "[0.08131184428930283, 0.9918000102043152]\n"
     ]
    }
   ],
   "source": [
    "results = model.evaluate(test_images,test_labels)\n",
    "print(results)"
   ]
  },
  {
   "cell_type": "code",
   "execution_count": 48,
   "id": "609d6c9c",
   "metadata": {},
   "outputs": [
    {
     "name": "stdout",
     "output_type": "stream",
     "text": [
      "313/313 [==============================] - 3s 8ms/step - loss: 0.0813 - accuracy: 0.9918\n"
     ]
    }
   ],
   "source": [
    "test_loss, test_acc = model.evaluate(test_images, test_labels)"
   ]
  },
  {
   "cell_type": "code",
   "execution_count": 49,
   "id": "c06f7c66",
   "metadata": {},
   "outputs": [
    {
     "name": "stdout",
     "output_type": "stream",
     "text": [
      "Test Accuracy: 0.9918000102043152 \n",
      "Test Accuracy in percentage: 99.18000102043152 \n"
     ]
    }
   ],
   "source": [
    "print('Test Accuracy: %s ' % test_acc)\n",
    "print('Test Accuracy in percentage: %s ' % (test_acc*100))"
   ]
  },
  {
   "cell_type": "code",
   "execution_count": 50,
   "id": "17d28c1d",
   "metadata": {},
   "outputs": [
    {
     "name": "stdout",
     "output_type": "stream",
     "text": [
      "Saved trained model to results folder\n"
     ]
    }
   ],
   "source": [
    "# Saving Model files to results folder\n",
    "result_model_file = results_dir.joinpath('Assignment_6.1_model.h5')\n",
    "model.save(result_model_file)\n",
    "print('Saved trained model to results folder')"
   ]
  },
  {
   "cell_type": "markdown",
   "id": "ad3b5389",
   "metadata": {},
   "source": [
    "## Plotting the metrics for trained model"
   ]
  },
  {
   "cell_type": "code",
   "execution_count": 51,
   "id": "cae12806",
   "metadata": {},
   "outputs": [],
   "source": [
    "history_dict = history.history"
   ]
  },
  {
   "cell_type": "code",
   "execution_count": 52,
   "id": "f6a4984c",
   "metadata": {},
   "outputs": [
    {
     "data": {
      "text/plain": [
       "{'loss': [0.011899350211024284,\n",
       "  0.008968295529484749,\n",
       "  0.007359313312917948,\n",
       "  0.006520744413137436,\n",
       "  0.005266206339001656,\n",
       "  0.005001759622246027,\n",
       "  0.004690451081842184,\n",
       "  0.003343194490298629,\n",
       "  0.003097245702520013,\n",
       "  0.002320872386917472,\n",
       "  0.0027718879282474518,\n",
       "  0.0029663117602467537,\n",
       "  0.002669442445039749,\n",
       "  0.0019341697916388512,\n",
       "  0.002348849317058921,\n",
       "  0.0014917276566848159,\n",
       "  0.0018309366423636675,\n",
       "  0.0014681484317407012,\n",
       "  0.0013399653835222125,\n",
       "  0.0017427870770916343],\n",
       " 'accuracy': [0.996399998664856,\n",
       "  0.9971500039100647,\n",
       "  0.9977333545684814,\n",
       "  0.9979333281517029,\n",
       "  0.998199999332428,\n",
       "  0.99836665391922,\n",
       "  0.9985166788101196,\n",
       "  0.9988166689872742,\n",
       "  0.9990000128746033,\n",
       "  0.9991666674613953,\n",
       "  0.9990833401679993,\n",
       "  0.9990333318710327,\n",
       "  0.9992499947547913,\n",
       "  0.9993833303451538,\n",
       "  0.9994166493415833,\n",
       "  0.9995666742324829,\n",
       "  0.9995333552360535,\n",
       "  0.9995833039283752,\n",
       "  0.9995333552360535,\n",
       "  0.9995333552360535],\n",
       " 'val_loss': [0.02518724463880062,\n",
       "  0.026512403041124344,\n",
       "  0.03495265543460846,\n",
       "  0.032167110592126846,\n",
       "  0.032940007746219635,\n",
       "  0.03674701973795891,\n",
       "  0.03570358082652092,\n",
       "  0.04247955232858658,\n",
       "  0.0497816763818264,\n",
       "  0.0571318045258522,\n",
       "  0.04580209404230118,\n",
       "  0.0507330521941185,\n",
       "  0.05431755259633064,\n",
       "  0.04360150173306465,\n",
       "  0.05341117084026337,\n",
       "  0.059875890612602234,\n",
       "  0.05770939216017723,\n",
       "  0.06353992968797684,\n",
       "  0.05969144403934479,\n",
       "  0.08131185173988342],\n",
       " 'val_accuracy': [0.9926000237464905,\n",
       "  0.9937000274658203,\n",
       "  0.9921000003814697,\n",
       "  0.9919000267982483,\n",
       "  0.9926000237464905,\n",
       "  0.993399977684021,\n",
       "  0.993399977684021,\n",
       "  0.9927999973297119,\n",
       "  0.9922999739646912,\n",
       "  0.9919000267982483,\n",
       "  0.9929999709129333,\n",
       "  0.9930999875068665,\n",
       "  0.9901999831199646,\n",
       "  0.9929999709129333,\n",
       "  0.9930999875068665,\n",
       "  0.9927999973297119,\n",
       "  0.9926000237464905,\n",
       "  0.992900013923645,\n",
       "  0.9933000206947327,\n",
       "  0.9918000102043152]}"
      ]
     },
     "execution_count": 52,
     "metadata": {},
     "output_type": "execute_result"
    }
   ],
   "source": [
    "history_dict"
   ]
  },
  {
   "cell_type": "code",
   "execution_count": 57,
   "id": "f198c7dc",
   "metadata": {},
   "outputs": [],
   "source": [
    "acc = history_dict['accuracy']\n",
    "val_acc = history_dict['val_accuracy']\n",
    "loss = history_dict['loss']\n",
    "val_loss = history_dict['val_loss']\n",
    "epochs = range(1,len(acc)+1)"
   ]
  },
  {
   "cell_type": "code",
   "execution_count": 58,
   "id": "c2ecdac1",
   "metadata": {},
   "outputs": [
    {
     "data": {
      "image/png": "[encoded data removed]",
      "text/plain": [
       "<Figure size 432x288 with 1 Axes>"
      ]
     },
     "metadata": {
      "needs_background": "light"
     },
     "output_type": "display_data"
    }
   ],
   "source": [
    "fig = plt.figure()\n",
    "plt.plot(acc)\n",
    "plt.plot(val_acc)\n",
    "plt.title('Model Accuracy')\n",
    "plt.ylabel('Accuracy')\n",
    "plt.xlabel('Epoch')\n",
    "plt.legend(['train', 'test'], loc='lower right')\n",
    "img_file = results_dir.joinpath('Assignment_6.1_Model_Accuracy_Validation.png')\n",
    "plt.savefig(img_file)\n",
    "plt.show()"
   ]
  },
  {
   "cell_type": "code",
   "execution_count": 59,
   "id": "44cb8f76",
   "metadata": {},
   "outputs": [
    {
     "data": {
      "image/png": "[encoded data removed]",
      "text/plain": [
       "<Figure size 432x288 with 1 Axes>"
      ]
     },
     "metadata": {
      "needs_background": "light"
     },
     "output_type": "display_data"
    }
   ],
   "source": [
    "plt.plot(loss)\n",
    "plt.plot(val_loss)\n",
    "plt.title('Model Loss')\n",
    "plt.ylabel('Loss')\n",
    "plt.xlabel('Epoch')\n",
    "plt.legend(['train', 'test'], loc='upper right')\n",
    "plt.tight_layout()\n",
    "img_file = results_dir.joinpath('Assignment_6.1_Model_Loss_Validation.png')\n",
    "plt.savefig(img_file)\n",
    "plt.show()"
   ]
  },
  {
   "cell_type": "code",
   "execution_count": null,
   "id": "f08db6da",
   "metadata": {},
   "outputs": [],
   "source": []
  }
 ],
 "metadata": {
  "kernelspec": {
   "display_name": "Python 3 (ipykernel)",
   "language": "python",
   "name": "python3"
  },
  "language_info": {
   "codemirror_mode": {
    "name": "ipython",
    "version": 3
   },
   "file_extension": ".py",
   "mimetype": "text/x-python",
   "name": "python",
   "nbconvert_exporter": "python",
   "pygments_lexer": "ipython3",
   "version": "3.9.12"
  }
 },
 "nbformat": 4,
 "nbformat_minor": 5
}
