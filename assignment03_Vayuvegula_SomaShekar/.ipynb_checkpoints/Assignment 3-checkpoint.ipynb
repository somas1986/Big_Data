{
 "cells": [
  {
   "cell_type": "markdown",
   "metadata": {},
   "source": [
    "# Assignment 3"
   ]
  },
  {
   "cell_type": "markdown",
   "metadata": {},
   "source": [
    "Import libraries and define common helper functions"
   ]
  },
  {
   "cell_type": "code",
   "execution_count": 21,
   "metadata": {
    "scrolled": true
   },
   "outputs": [
    {
     "name": "stdout",
     "output_type": "stream",
     "text": [
      "/home/jovyan/assignment03_Vayuvegula_SomaShekar\n",
      "/home/jovyan/assignment03_Vayuvegula_SomaShekar/schemas\n",
      "/home/jovyan/assignment03_Vayuvegula_SomaShekar/results\n"
     ]
    }
   ],
   "source": [
    "from iteration_utilities import unique_everseen\n",
    "import os\n",
    "import sys\n",
    "import gzip\n",
    "import json\n",
    "from pathlib import Path\n",
    "import csv\n",
    "import avro.schema\n",
    "import pandas as pd\n",
    "import s3fs\n",
    "# from fs_s3fs import S3FS\n",
    "import pyarrow as pa\n",
    "from pyarrow.json import read_json\n",
    "import pyarrow.parquet as pq\n",
    "#import fastavro\n",
    "from fastavro.schema import load_schema\n",
    "from fastavro import writer, reader, parse_schema\n",
    "#import pygeohashpisr d\n",
    "import pygeohash\n",
    "import snappy\n",
    "import jsonschema\n",
    "from jsonschema import validate\n",
    "\n",
    "from jsonschema.exceptions import ValidationError\n",
    "\n",
    "\n",
    "endpoint_url='/home/jovyan/'\n",
    "\n",
    "current_dir = Path(os.getcwd()).absolute()\n",
    "schema_dir = current_dir.joinpath('schemas')\n",
    "results_dir = current_dir.joinpath('results')\n",
    "results_dir.mkdir(parents=True, exist_ok=True)\n",
    "\n",
    "print(current_dir)\n",
    "print(schema_dir)\n",
    "print(results_dir)\n",
    "\n",
    "def read_jsonl_data():\n",
    "    f_gz = '/home/jovyan/assignment03_Vayuvegula_SomaShekar/data/processed/openflights/routes.jsonl.gz'\n",
    "    with gzip.open(f_gz, 'rb') as f:\n",
    "        records = [json.loads(line) for line in f.readlines()]\n",
    "\n",
    "    return records"
   ]
  },
  {
   "cell_type": "markdown",
   "metadata": {},
   "source": [
    "Load the records from https://storage.budsc.midwest-datascience.com/data/processed/openflights/routes.jsonl.gz "
   ]
  },
  {
   "cell_type": "code",
   "execution_count": 22,
   "metadata": {},
   "outputs": [],
   "source": [
    "records = read_jsonl_data()"
   ]
  },
  {
   "cell_type": "markdown",
   "metadata": {},
   "source": [
    "## 3.1"
   ]
  },
  {
   "cell_type": "markdown",
   "metadata": {},
   "source": [
    "### 3.1.a JSON Schema"
   ]
  },
  {
   "cell_type": "code",
   "execution_count": null,
   "metadata": {
    "scrolled": true
   },
   "outputs": [
    {
     "name": "stdout",
     "output_type": "stream",
     "text": [
      "/home/jovyan/assignment03_Vayuvegula_SomaShekar/schemas/routes-schema.json\n",
      "{}\n",
      "/home/jovyan/assignment03_Vayuvegula_SomaShekar/results/validation-exception.txt\n"
     ]
    }
   ],
   "source": [
    "def validate_jsonl_data(records):\n",
    "    schema_path = schema_dir.joinpath('routes-schema.json')\n",
    "    print(schema_path)\n",
    "    with open(schema_path) as f:\n",
    "        schema = json.load(f)\n",
    "    print(schema)\n",
    "\n",
    "    validation_csv_path = results_dir.joinpath('validation-exception.txt')\n",
    "    print(validation_csv_path)\n",
    "    with open(validation_csv_path, 'w') as f:\n",
    "        for i, record in enumerate(records):\n",
    "            try:\n",
    "                ## TODO: Validate record\n",
    "                jsonschema.validate(record, schema)\n",
    "                ##pass\n",
    "            except ValidationError as e:\n",
    "                ## Print message if invalid record\n",
    "                detail = e.message\n",
    "                print(detail)\n",
    "                f.write(str(i)+\",\"+str(detail))\n",
    "                return detail\n",
    "\n",
    "validate_jsonl_data(records)"
   ]
  },
  {
   "cell_type": "markdown",
   "metadata": {},
   "source": [
    "### 3.1.b Avro"
   ]
  },
  {
   "cell_type": "code",
   "execution_count": null,
   "metadata": {},
   "outputs": [],
   "source": [
    "def create_avro_dataset(records):\n",
    "    schema_path = schema_dir.joinpath('routes.avsc')\n",
    "    data_path = results_dir.joinpath('routes.avro')\n",
    "    print(schema_path)\n",
    "    print(data_path)\n",
    "    ## TODO: Use fastavro to create Avro dataset\n",
    "    parsed_schema = load_schema(schema_path)\n",
    "    with open(data_path, 'wb') as out:\n",
    "        writer(out, parsed_schema, records)\n",
    "        \n",
    "create_avro_dataset(records)"
   ]
  },
  {
   "cell_type": "markdown",
   "metadata": {},
   "source": [
    "### 3.1.c Parquet"
   ]
  },
  {
   "cell_type": "code",
   "execution_count": null,
   "metadata": {},
   "outputs": [],
   "source": [
    "def create_parquet_dataset():\n",
    "    src_data_path = '/home/jovyan/assignment03_Vayuvegula_SomaShekar/data/processed/openflights/routes.jsonl.gz'\n",
    "    parquet_output_path = results_dir.joinpath('routes.parquet')\n",
    "    \"\"\" \n",
    "    s3 = s3fs.S3FileSystem(\n",
    "        anon=True,\n",
    "        client_kwargs={\n",
    "            'endpoint_url': endpoint_url\n",
    "        }\n",
    "    )\n",
    "    \"\"\"\n",
    "\n",
    "    with gzip.open(src_data_path, 'rb') as f:\n",
    "        records = [json.loads(line) for line in f.readlines()]\n",
    "    print(records)\n",
    "    df = pd.DataFrame(records)\n",
    "    ## TODO: Use Apache Arrow to create Parquet table and save the dataset\n",
    "    table = pa.Table.from_pandas(df)\n",
    "    print(table)\n",
    "    pq.write_table(table, parquet_output_path, compression='none')\n",
    "\n",
    "create_parquet_dataset()"
   ]
  },
  {
   "cell_type": "markdown",
   "metadata": {},
   "source": [
    "### 3.1.d Protocol Buffers"
   ]
  },
  {
   "cell_type": "code",
   "execution_count": null,
   "metadata": {},
   "outputs": [],
   "source": [
    "sys.path.insert(0, os.path.abspath('routes_pb2'))\n",
    "\n",
    "import routes_pb2\n",
    "\n",
    "def _airport_to_proto_obj(airport):\n",
    "    obj = routes_pb2.Airport()\n",
    "    if airport is None:\n",
    "        return None\n",
    "    if airport.get('airport_id') is None:\n",
    "        return None\n",
    "\n",
    "    obj.airport_id = airport.get('airport_id')\n",
    "    if airport.get('name'):\n",
    "        obj.name = airport.get('name')\n",
    "    if airport.get('city'):\n",
    "        obj.city = airport.get('city')\n",
    "    if airport.get('iata'):\n",
    "        obj.iata = airport.get('iata')\n",
    "    if airport.get('icao'):\n",
    "        obj.icao = airport.get('icao')\n",
    "    if airport.get('altitude'):\n",
    "        obj.altitude = airport.get('altitude')\n",
    "    if airport.get('timezone'):\n",
    "        obj.timezone = airport.get('timezone')\n",
    "    if airport.get('dst'):\n",
    "        obj.dst = airport.get('dst')\n",
    "    if airport.get('tz_id'):\n",
    "        obj.tz_id = airport.get('tz_id')\n",
    "    if airport.get('type'):\n",
    "        obj.type = airport.get('type')\n",
    "    if airport.get('source'):\n",
    "        obj.source = airport.get('source')\n",
    "\n",
    "    obj.latitude = airport.get('latitude')\n",
    "    obj.longitude = airport.get('longitude')\n",
    "\n",
    "    return obj\n",
    "\n",
    "\n",
    "def _airline_to_proto_obj(airline):\n",
    "    obj = routes_pb2.Airline()\n",
    "    ## TODO: Create an Airline obj using Protocol Buffers API\n",
    "    if airline is None:\n",
    "        return None\n",
    "    if airline.get('airline_id') is None:\n",
    "        return None\n",
    "\n",
    "    obj.airline_id = airline.get('airline_id')\n",
    "    if airline.get('name'):\n",
    "        obj.name = airline.get('name')\n",
    "    if airline.get('alias'):\n",
    "        obj.alias = airline.get('alias')\n",
    "    if airline.get('iata'):\n",
    "        obj.iata = airline.get('iata')\n",
    "    if airline.get('icao'):\n",
    "        obj.icao = airline.get('icao')\n",
    "    if airline.get('callsign'):\n",
    "        obj.callsign = airline.get('callsign')\n",
    "    if airline.get('country'):\n",
    "        obj.country = airline.get('country')\n",
    "    if airline.get('active'):\n",
    "        obj.active = airline.get('active')\n",
    "        \n",
    "    return obj\n",
    "\n",
    "\n",
    "def create_protobuf_dataset(records):\n",
    "    routes = routes_pb2.Routes()\n",
    "    for record in records:\n",
    "        route = routes_pb2.Route()\n",
    "        ## TODO: Implement the code to create the Protocol Buffers Dataset\n",
    "        for key, value in record.items():\n",
    "            if key=='airline':\n",
    "                airline = _airline_to_proto_obj(value)\n",
    "                airin = route.airline\n",
    "                airin.name = airline.name\n",
    "                airin.airline_id = airline.airline_id\n",
    "                airin.active = airline.active\n",
    "            if key=='src_airport' and value is not None:\n",
    "                src_airport = _airport_to_proto_obj(value)\n",
    "                srcairin = route.src_airport\n",
    "                srcairin.name = src_airport.name\n",
    "                srcairin.airport_id = src_airport.airport_id\n",
    "                srcairin.latitude = src_airport.latitude\n",
    "                srcairin.longitude = src_airport.longitude\n",
    "\n",
    "            if key=='dst_airport' and value is not None:\n",
    "                dst_airport = _airport_to_proto_obj(value)\n",
    "                dstairin = route.dst_airport\n",
    "                dstairin.name = dst_airport.name\n",
    "                dstairin.airport_id = dst_airport.airport_id\n",
    "                dstairin.latitude = dst_airport.latitude\n",
    "                dstairin.longitude = dst_airport.longitude\n",
    "\n",
    "            if key=='codeshare':\n",
    "                route.codeshare = value\n",
    "\n",
    "        routes.route.append(route)\n",
    "\n",
    "    data_path = results_dir.joinpath('routes.pb')\n",
    "\n",
    "    with open(data_path, 'wb') as f:\n",
    "        f.write(routes.SerializeToString())\n",
    "        \n",
    "    compressed_path = results_dir.joinpath('routes.pb.snappy')\n",
    "    \n",
    "    with open(compressed_path, 'wb') as f:\n",
    "        f.write(snappy.compress(routes.SerializeToString()))\n",
    "        \n",
    "create_protobuf_dataset(records)"
   ]
  },
  {
   "cell_type": "markdown",
   "metadata": {},
   "source": [
    "## 3.2"
   ]
  },
  {
   "cell_type": "markdown",
   "metadata": {},
   "source": [
    "### 3.2.a Simple Geohash Index"
   ]
  },
  {
   "cell_type": "code",
   "execution_count": null,
   "metadata": {},
   "outputs": [],
   "source": [
    "def create_hash_dirs(records):\n",
    "    geoindex_dir = results_dir.joinpath('geoindex')\n",
    "    geoindex_dir.mkdir(exist_ok=True, parents=True)\n",
    "    hashes = []\n",
    "    ## TODO: Create hash index\n",
    "    for record in records:\n",
    "        for key, value in record.items():\n",
    "            if key == 'src_airport' and value is not None:\n",
    "                geohval = pygeohash.encode(value['latitude'], value['longitude'])\n",
    "                geohval1 = str(geohval)[0]\n",
    "                geohval2 = str(geohval)[0:2]\n",
    "                geohval3 = str(geohval)[0:3]+\".jsonl.gz\"\n",
    "                geoindex_dir = results_dir.joinpath('geoindex')\n",
    "                geoindex_1dir = geoindex_dir.joinpath(geohval1)\n",
    "                geoindex_1dir.mkdir(parents=True, exist_ok=True)\n",
    "                geoindex_2dir = geoindex_1dir.joinpath(geohval2)\n",
    "                geoindex_2dir.mkdir(parents=True, exist_ok=True)\n",
    "                jsonfilename = geoindex_2dir.joinpath(geohval3)\n",
    "                with gzip.GzipFile(jsonfilename, 'w') as fout:\n",
    "                    fout.write(json.dumps(value).encode('utf-8'))\n",
    "            \n",
    "create_hash_dirs(records)"
   ]
  },
  {
   "cell_type": "markdown",
   "metadata": {},
   "source": [
    "### 3.2.b Simple Search Feature"
   ]
  },
  {
   "cell_type": "code",
   "execution_count": null,
   "metadata": {},
   "outputs": [],
   "source": [
    "def airport_search(latitude, longitude):\n",
    "    ## TODO: Create simple search to return nearest airport\n",
    "    distm = distm / 1000\n",
    "    srcgeoval = pygeohash.encode(latitude, longitude, precision=12)\n",
    "    AirportDistances = []\n",
    "    recout = []\n",
    "    # traverse for all elements get unique src airports\n",
    "    for record in records:\n",
    "        for key, value in record.items():\n",
    "            if key == 'src_airport' and value is not None:\n",
    "                if value not in recout:\n",
    "                    recout.append(value)\n",
    "\n",
    "    #print(len(recout))\n",
    "    for record in recout:\n",
    "        dstname = record['name']\n",
    "        dstlat = record['latitude']\n",
    "        dstlong = record['longitude']\n",
    "        geohval = pygeohash.encode(dstlat, dstlong, precision=12)\n",
    "        distm_dstgeo1 = pygeohash.geohash_approximate_distance(srcgeoval, geohval) / 1000\n",
    "        airport_dist = {\n",
    "            \"Airport\": dstname,\n",
    "            \"Geoval\": geohval,\n",
    "            \"Latitude\": dstlat,\n",
    "            \"Longitude\": dstlong,\n",
    "            \"Distance(m)\": distm_dstgeo1\n",
    "        }\n",
    "        AirportDistances.append(airport_dist)\n",
    "\n",
    "    AirportDistancesOut = list(unique_everseen(AirportDistances))\n",
    "    print(\"The following airports are within \"+str(distm)+\" meters from the coordinates:\")\n",
    "    print(\"Latitude: \"+str(latitude))\n",
    "    print(\"Longitude: \"+str(longitude))\n",
    "    for i in range(len(AirportDistancesOut)):\n",
    "        for k, v in AirportDistancesOut[i].items():\n",
    "            if k == 'Distance(m)':\n",
    "                if v <= distm: # and v != 0:\n",
    "                    print(AirportDistancesOut[i])\n",
    "    #pass\n",
    "    \n",
    "airport_search(41.1499988, -95.91779)"
   ]
  },
  {
   "cell_type": "code",
   "execution_count": null,
   "metadata": {},
   "outputs": [],
   "source": []
  }
 ],
 "metadata": {
  "kernelspec": {
   "display_name": "Python 3 (ipykernel)",
   "language": "python",
   "name": "python3"
  },
  "language_info": {
   "codemirror_mode": {
    "name": "ipython",
    "version": 3
   },
   "file_extension": ".py",
   "mimetype": "text/x-python",
   "name": "python",
   "nbconvert_exporter": "python",
   "pygments_lexer": "ipython3",
   "version": "3.10.9"
  }
 },
 "nbformat": 4,
 "nbformat_minor": 4
}
