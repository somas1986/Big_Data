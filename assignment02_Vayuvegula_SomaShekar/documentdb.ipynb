{
  "nbformat": 4,
  "nbformat_minor": 0,
  "metadata": {
    "colab": {
      "provenance": [],
      "authorship_tag": "ABX9TyO3Bx5Lzdk8x3vccs9kgakU",
      "include_colab_link": true
    },
    "kernelspec": {
      "name": "python3",
      "display_name": "Python 3"
    },
    "language_info": {
      "name": "python"
    }
  },
  "cells": [
    {
      "cell_type": "markdown",
      "metadata": {
        "id": "view-in-github",
        "colab_type": "text"
      },
      "source": [
        "<a href=\"https://colab.research.google.com/github/somas1986/Big_Data/blob/main/assignment02_Vayuvegula_SomaShekar/documentdb.ipynb\" target=\"_parent\"><img src=\"https://colab.research.google.com/assets/colab-badge.svg\" alt=\"Open In Colab\"/></a>"
      ]
    },
    {
      "cell_type": "code",
      "execution_count": 11,
      "metadata": {
        "id": "ctNbm6tGqI9U"
      },
      "outputs": [],
      "source": [
        "from pathlib import Path\n",
        "import json\n",
        "import os\n",
        "import pickle\n",
        "from tinydb import TinyDB, Query"
      ]
    },
    {
      "cell_type": "code",
      "source": [
        "current_dir = Path(os.getcwd()).absolute()\n",
        "results_dir = current_dir.joinpath('results')\n",
        "kv_data_dir = results_dir.joinpath('kvdb')\n",
        "kv_data_dir.mkdir(parents=True, exist_ok=True)\n",
        "\n",
        "\n",
        "class DocumentDB(object):\n",
        "    def __init__(self, db_path):\n",
        "        people_json = kv_data_dir.joinpath('people.json')\n",
        "        print(people_json)\n",
        "        visited_json = kv_data_dir.joinpath('visited.json')\n",
        "        sites_json = kv_data_dir.joinpath('sites.json')\n",
        "        measurements_json = kv_data_dir.joinpath('measurements.json')\n",
        "\n",
        "        self._db_path = Path(db_path)\n",
        "        self._db = None\n",
        "        \n",
        "        with open(people_json, 'rb') as handle:\n",
        "            self.people_json_data = pickle.load(handle)\n",
        "\n",
        "        with open(visited_json, 'rb') as handle:\n",
        "            self.visited_json_data = pickle.load(handle)\n",
        "\n",
        "        with open(sites_json, 'rb') as handle:\n",
        "            self.sites_json_data = pickle.load(handle)\n",
        "\n",
        "        with open(measurements_json, 'rb') as handle:\n",
        "            self.measurements_json_data = pickle.load(handle)\n",
        "        self._load_db()\n",
        "    \n",
        "    def Merge(dict1, dict2):\n",
        "        res = {**dict1, **dict2}\n",
        "        return res\n",
        "\n",
        "    def _load_db(self):\n",
        "        self._db = TinyDB(self._db_path)\n",
        "        table1 = self._db.table('PatientRecord')\n",
        "\n",
        "        def Merge(dict1, dict2):\n",
        "            res = {**dict1, **dict2}\n",
        "            return res\n",
        "\n",
        "        Q1 = Query()\n",
        "        for key1, value1 in self.people_json_data.items():\n",
        "            print(\"   \")\n",
        "            personrow = value1\n",
        "            person_visits = []\n",
        "            person = {}\n",
        "\n",
        "            for visit_key, visit_value in self.visited_json_data.items():\n",
        "                measurements = []\n",
        "                for site_key, site_value in self.sites_json_data.items():\n",
        "                    if site_key == visit_key[1]:\n",
        "                        sitek = site_key\n",
        "                        site = site_value\n",
        "\n",
        "                for measurement_key, measurement_value2 in self.measurements_json_data.items():\n",
        "                    for measure_id, value in measurement_value2.items():\n",
        "                        if measure_id == 'person_id' and value == key1 and visit_key[0] == measurement_key[0]:\n",
        "                            visits = []\n",
        "                            visits.append(visit_value)\n",
        "                            measurements.append(measurement_value2)\n",
        "\n",
        "                while (\"\" in measurements):\n",
        "                    measurements.remove(\"\")\n",
        "                measurements_out = {}\n",
        "                site_out = {}\n",
        "                if len(measurements)!=0:\n",
        "                    site_out[\"site\"]=site\n",
        "                    measurements_out[\"measurements\"]=measurements\n",
        "                    vs = Merge(visits[0], site_out)\n",
        "                    vs = Merge(vs, measurements_out)\n",
        "                    visits_list = [vs]\n",
        "                    person_visits.append(visits_list)\n",
        "            p_v_out = {\"visits\": person_visits}\n",
        "            p_v_out = Merge(personrow, p_v_out)\n",
        "            table1.insert(p_v_out)\n",
        "\n",
        "        # Test Queries\n",
        "        print(table1.search(Q1.person_id == 'dyer'))\n",
        "        for item in table1:\n",
        "                print(item)\n",
        "        print(table1.all())"
      ],
      "metadata": {
        "id": "LOIAdfFVqQSR"
      },
      "execution_count": 15,
      "outputs": []
    },
    {
      "cell_type": "code",
      "source": [
        "db_path = results_dir.joinpath('patient-info.json')\n",
        "if db_path.exists():\n",
        "    os.remove(db_path)\n",
        "\n",
        "db = DocumentDB(db_path)"
      ],
      "metadata": {
        "colab": {
          "base_uri": "https://localhost:8080/",
          "height": 348
        },
        "id": "Jw9m89N4qTCU",
        "outputId": "a9ca1edf-cda3-414c-cef6-2ea4f8163155"
      },
      "execution_count": 16,
      "outputs": [
        {
          "output_type": "stream",
          "name": "stdout",
          "text": [
            "/content/results/kvdb/people.json\n"
          ]
        },
        {
          "output_type": "error",
          "ename": "FileNotFoundError",
          "evalue": "ignored",
          "traceback": [
            "\u001b[0;31m---------------------------------------------------------------------------\u001b[0m",
            "\u001b[0;31mFileNotFoundError\u001b[0m                         Traceback (most recent call last)",
            "\u001b[0;32m<ipython-input-16-bb790709a559>\u001b[0m in \u001b[0;36m<module>\u001b[0;34m\u001b[0m\n\u001b[1;32m      3\u001b[0m     \u001b[0mos\u001b[0m\u001b[0;34m.\u001b[0m\u001b[0mremove\u001b[0m\u001b[0;34m(\u001b[0m\u001b[0mdb_path\u001b[0m\u001b[0;34m)\u001b[0m\u001b[0;34m\u001b[0m\u001b[0;34m\u001b[0m\u001b[0m\n\u001b[1;32m      4\u001b[0m \u001b[0;34m\u001b[0m\u001b[0m\n\u001b[0;32m----> 5\u001b[0;31m \u001b[0mdb\u001b[0m \u001b[0;34m=\u001b[0m \u001b[0mDocumentDB\u001b[0m\u001b[0;34m(\u001b[0m\u001b[0mdb_path\u001b[0m\u001b[0;34m)\u001b[0m\u001b[0;34m\u001b[0m\u001b[0;34m\u001b[0m\u001b[0m\n\u001b[0m",
            "\u001b[0;32m<ipython-input-15-07e3b6b1ea6e>\u001b[0m in \u001b[0;36m__init__\u001b[0;34m(self, db_path)\u001b[0m\n\u001b[1;32m     16\u001b[0m         \u001b[0mself\u001b[0m\u001b[0;34m.\u001b[0m\u001b[0m_db\u001b[0m \u001b[0;34m=\u001b[0m \u001b[0;32mNone\u001b[0m\u001b[0;34m\u001b[0m\u001b[0;34m\u001b[0m\u001b[0m\n\u001b[1;32m     17\u001b[0m \u001b[0;34m\u001b[0m\u001b[0m\n\u001b[0;32m---> 18\u001b[0;31m         \u001b[0;32mwith\u001b[0m \u001b[0mopen\u001b[0m\u001b[0;34m(\u001b[0m\u001b[0mpeople_json\u001b[0m\u001b[0;34m,\u001b[0m \u001b[0;34m'rb'\u001b[0m\u001b[0;34m)\u001b[0m \u001b[0;32mas\u001b[0m \u001b[0mhandle\u001b[0m\u001b[0;34m:\u001b[0m\u001b[0;34m\u001b[0m\u001b[0;34m\u001b[0m\u001b[0m\n\u001b[0m\u001b[1;32m     19\u001b[0m             \u001b[0mself\u001b[0m\u001b[0;34m.\u001b[0m\u001b[0mpeople_json_data\u001b[0m \u001b[0;34m=\u001b[0m \u001b[0mpickle\u001b[0m\u001b[0;34m.\u001b[0m\u001b[0mload\u001b[0m\u001b[0;34m(\u001b[0m\u001b[0mhandle\u001b[0m\u001b[0;34m)\u001b[0m\u001b[0;34m\u001b[0m\u001b[0;34m\u001b[0m\u001b[0m\n\u001b[1;32m     20\u001b[0m \u001b[0;34m\u001b[0m\u001b[0m\n",
            "\u001b[0;31mFileNotFoundError\u001b[0m: [Errno 2] No such file or directory: '/content/results/kvdb/people.json'"
          ]
        }
      ]
    }
  ]
}