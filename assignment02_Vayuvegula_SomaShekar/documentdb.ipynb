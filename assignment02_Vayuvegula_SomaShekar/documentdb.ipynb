{
  "nbformat": 4,
  "nbformat_minor": 0,
  "metadata": {
    "colab": {
      "provenance": [],
      "authorship_tag": "ABX9TyOizd6kF6TuD5t5Xc1X81tB",
      "include_colab_link": true
    },
    "kernelspec": {
      "name": "python3",
      "display_name": "Python 3"
    },
    "language_info": {
      "name": "python"
    }
  },
  "cells": [
    {
      "cell_type": "markdown",
      "metadata": {
        "id": "view-in-github",
        "colab_type": "text"
      },
      "source": [
        "<a href=\"https://colab.research.google.com/github/somas1986/Big_Data/blob/main/assignment02_Vayuvegula_SomaShekar/documentdb.ipynb\" target=\"_parent\"><img src=\"https://colab.research.google.com/assets/colab-badge.svg\" alt=\"Open In Colab\"/></a>"
      ]
    },
    {
      "cell_type": "code",
      "source": [
        "pip install tinydb"
      ],
      "metadata": {
        "colab": {
          "base_uri": "https://localhost:8080/"
        },
        "id": "FK83eyo_qfhW",
        "outputId": "f7cd84f9-7984-4945-d497-aade329b0234"
      },
      "execution_count": 2,
      "outputs": [
        {
          "output_type": "stream",
          "name": "stdout",
          "text": [
            "Looking in indexes: https://pypi.org/simple, https://us-python.pkg.dev/colab-wheels/public/simple/\n",
            "Collecting tinydb\n",
            "  Downloading tinydb-4.7.1-py3-none-any.whl (24 kB)\n",
            "Installing collected packages: tinydb\n",
            "Successfully installed tinydb-4.7.1\n"
          ]
        }
      ]
    },
    {
      "cell_type": "code",
      "execution_count": 3,
      "metadata": {
        "id": "ctNbm6tGqI9U"
      },
      "outputs": [],
      "source": [
        "from pathlib import Path\n",
        "import json\n",
        "import os\n",
        "\n",
        "from tinydb import TinyDB"
      ]
    },
    {
      "cell_type": "code",
      "source": [
        "current_dir = Path(os.getcwd()).absolute()\n",
        "results_dir = current_dir.joinpath('results')\n",
        "kv_data_dir = results_dir.joinpath('kvdb')\n",
        "kv_data_dir.mkdir(parents=True, exist_ok=True)\n",
        "\n",
        "\n",
        "class DocumentDB(object):\n",
        "    def __init__(self, db_path):\n",
        "        ## You can use the code from the previous exmaple if you would like\n",
        "        people_json = kv_data_dir.joinpath('people.json')\n",
        "        visited_json = kv_data_dir.joinpath('visited.json')\n",
        "        sites_json = kv_data_dir.joinpath('sites.json')\n",
        "        measurements_json = kv_data_dir.joinpath('measurements.json')\n",
        "\n",
        "        self._db_path = Path(db_path)\n",
        "        self._db = None\n",
        "        ## TODO: Implement code\n",
        "        self._load_db()\n",
        "\n",
        "    def _load_db(self):\n",
        "        self._db = TinyDB(self._db_path)"
      ],
      "metadata": {
        "id": "LOIAdfFVqQSR"
      },
      "execution_count": 4,
      "outputs": []
    },
    {
      "cell_type": "code",
      "source": [
        "db_path = results_dir.joinpath('patient-info.json')\n",
        "if db_path.exists():\n",
        "    os.remove(db_path)\n",
        "\n",
        "db = DocumentDB(db_path)"
      ],
      "metadata": {
        "id": "Jw9m89N4qTCU"
      },
      "execution_count": 5,
      "outputs": []
    }
  ]
}