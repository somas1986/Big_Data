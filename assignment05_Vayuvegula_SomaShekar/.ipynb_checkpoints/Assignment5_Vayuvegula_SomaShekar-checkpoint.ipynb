{
 "cells": [
  {
   "cell_type": "code",
   "execution_count": 2,
   "id": "7a3f65da",
   "metadata": {},
   "outputs": [],
   "source": [
    "#Import libraries\n",
    "import warnings\n",
    "warnings.filterwarnings(\"ignore\")\n",
    "import keras\n",
    "import numpy as np\n",
    "from keras import models\n",
    "from keras import layers\n",
    "from keras import optimizers\n",
    "from keras import losses\n",
    "from keras import metrics\n",
    "import copy\n",
    "import matplotlib.pyplot as plt"
   ]
  },
  {
   "cell_type": "markdown",
   "id": "e5aa50ba",
   "metadata": {},
   "source": [
    "# Assignment 5.1 - Movie Reviews"
   ]
  },
  {
   "cell_type": "code",
   "execution_count": 3,
   "id": "cfedd061",
   "metadata": {},
   "outputs": [],
   "source": [
    "#Import data\n",
    "from keras.datasets import imdb"
   ]
  },
  {
   "cell_type": "code",
   "execution_count": 4,
   "id": "1a9712f9",
   "metadata": {},
   "outputs": [],
   "source": [
    "#Split data\n",
    "(train_data, train_labels), (test_data, test_labels) = imdb.load_data(num_words=10000)"
   ]
  },
  {
   "cell_type": "code",
   "execution_count": 5,
   "id": "84c29a44",
   "metadata": {},
   "outputs": [],
   "source": [
    "#Vectorize sequence with dimension 10000\n",
    "def vectorize_sequence(sequences, dimension=10000):\n",
    "    #create all-zero matrix of shape (len(seq), dim)\n",
    "    results = np.zeros((len(sequences),dimension))\n",
    "    for i, seq in enumerate(sequences):\n",
    "        results[i,seq]= 1.\n",
    "    return results\n",
    "\n",
    "x_train = vectorize_sequence(train_data)\n",
    "x_test = vectorize_sequence(test_data)"
   ]
  },
  {
   "cell_type": "code",
   "execution_count": 6,
   "id": "eeda68c3",
   "metadata": {},
   "outputs": [],
   "source": [
    "#vectorized labels\n",
    "y_train = np.asarray(train_labels).astype('float32')\n",
    "y_test = np.asarray(test_labels).astype('float32')"
   ]
  },
  {
   "cell_type": "code",
   "execution_count": 7,
   "id": "317e04da",
   "metadata": {},
   "outputs": [
    {
     "name": "stderr",
     "output_type": "stream",
     "text": [
      "2023-04-16 23:24:27.487735: I tensorflow/core/platform/cpu_feature_guard.cc:193] This TensorFlow binary is optimized with oneAPI Deep Neural Network Library (oneDNN) to use the following CPU instructions in performance-critical operations:  AVX2 FMA\n",
      "To enable them in other operations, rebuild TensorFlow with the appropriate compiler flags.\n"
     ]
    }
   ],
   "source": [
    "#Building model\n",
    "model = models.Sequential()\n",
    "model.add(layers.Dense(16, activation='relu', input_shape=(10000,)))\n",
    "model.add(layers.Dense(16, activation='relu'))\n",
    "model.add(layers.Dense(1, activation='sigmoid'))"
   ]
  },
  {
   "cell_type": "code",
   "execution_count": 8,
   "id": "61f4382f",
   "metadata": {},
   "outputs": [],
   "source": [
    "#Compile model\n",
    "model.compile(optimizer='rmsprop',\n",
    "              loss='binary_crossentropy',\n",
    "              metrics=['accuracy'])"
   ]
  },
  {
   "cell_type": "code",
   "execution_count": 9,
   "id": "79e98c1b",
   "metadata": {},
   "outputs": [],
   "source": [
    "model.compile(optimizer=optimizers.RMSprop(lr=0.001),\n",
    "              loss='binary_crossentropy',\n",
    "              metrics=['accuracy'])"
   ]
  },
  {
   "cell_type": "code",
   "execution_count": 10,
   "id": "0bd67792",
   "metadata": {},
   "outputs": [],
   "source": [
    "model.compile(optimizer=optimizers.RMSprop(lr=0.001),\n",
    "              loss=losses.binary_crossentropy,\n",
    "              metrics=[metrics.binary_accuracy])"
   ]
  },
  {
   "cell_type": "code",
   "execution_count": 11,
   "id": "12ca52fb",
   "metadata": {},
   "outputs": [
    {
     "name": "stdout",
     "output_type": "stream",
     "text": [
      "Epoch 1/20\n",
      "30/30 [==============================] - 1s 29ms/step - loss: 0.4986 - binary_accuracy: 0.7897 - val_loss: 0.3730 - val_binary_accuracy: 0.8770\n",
      "Epoch 2/20\n",
      "30/30 [==============================] - 0s 14ms/step - loss: 0.2959 - binary_accuracy: 0.9036 - val_loss: 0.3282 - val_binary_accuracy: 0.8655\n",
      "Epoch 3/20\n",
      "30/30 [==============================] - 0s 14ms/step - loss: 0.2173 - binary_accuracy: 0.9300 - val_loss: 0.2853 - val_binary_accuracy: 0.8884\n",
      "Epoch 4/20\n",
      "30/30 [==============================] - 0s 15ms/step - loss: 0.1729 - binary_accuracy: 0.9424 - val_loss: 0.2908 - val_binary_accuracy: 0.8835\n",
      "Epoch 5/20\n",
      "30/30 [==============================] - 0s 14ms/step - loss: 0.1407 - binary_accuracy: 0.9563 - val_loss: 0.2890 - val_binary_accuracy: 0.8852\n",
      "Epoch 6/20\n",
      "30/30 [==============================] - 0s 13ms/step - loss: 0.1170 - binary_accuracy: 0.9633 - val_loss: 0.3159 - val_binary_accuracy: 0.8782\n",
      "Epoch 7/20\n",
      "30/30 [==============================] - 0s 13ms/step - loss: 0.0967 - binary_accuracy: 0.9720 - val_loss: 0.3133 - val_binary_accuracy: 0.8843\n",
      "Epoch 8/20\n",
      "30/30 [==============================] - 0s 13ms/step - loss: 0.0812 - binary_accuracy: 0.9769 - val_loss: 0.3329 - val_binary_accuracy: 0.8809\n",
      "Epoch 9/20\n",
      "30/30 [==============================] - 0s 13ms/step - loss: 0.0710 - binary_accuracy: 0.9801 - val_loss: 0.3583 - val_binary_accuracy: 0.8799\n",
      "Epoch 10/20\n",
      "30/30 [==============================] - 0s 13ms/step - loss: 0.0559 - binary_accuracy: 0.9853 - val_loss: 0.3861 - val_binary_accuracy: 0.8790\n",
      "Epoch 11/20\n",
      "30/30 [==============================] - 0s 13ms/step - loss: 0.0481 - binary_accuracy: 0.9879 - val_loss: 0.4399 - val_binary_accuracy: 0.8724\n",
      "Epoch 12/20\n",
      "30/30 [==============================] - 0s 13ms/step - loss: 0.0417 - binary_accuracy: 0.9899 - val_loss: 0.4359 - val_binary_accuracy: 0.8732\n",
      "Epoch 13/20\n",
      "30/30 [==============================] - 0s 13ms/step - loss: 0.0333 - binary_accuracy: 0.9923 - val_loss: 0.4656 - val_binary_accuracy: 0.8716\n",
      "Epoch 14/20\n",
      "30/30 [==============================] - 0s 13ms/step - loss: 0.0304 - binary_accuracy: 0.9932 - val_loss: 0.4923 - val_binary_accuracy: 0.8716\n",
      "Epoch 15/20\n",
      "30/30 [==============================] - 0s 13ms/step - loss: 0.0200 - binary_accuracy: 0.9968 - val_loss: 0.5747 - val_binary_accuracy: 0.8658\n",
      "Epoch 16/20\n",
      "30/30 [==============================] - 0s 14ms/step - loss: 0.0160 - binary_accuracy: 0.9981 - val_loss: 0.5892 - val_binary_accuracy: 0.8590\n",
      "Epoch 17/20\n",
      "30/30 [==============================] - 0s 13ms/step - loss: 0.0152 - binary_accuracy: 0.9978 - val_loss: 0.5920 - val_binary_accuracy: 0.8664\n",
      "Epoch 18/20\n",
      "30/30 [==============================] - 0s 13ms/step - loss: 0.0123 - binary_accuracy: 0.9982 - val_loss: 0.6266 - val_binary_accuracy: 0.8657\n",
      "Epoch 19/20\n",
      "30/30 [==============================] - 0s 13ms/step - loss: 0.0104 - binary_accuracy: 0.9981 - val_loss: 0.6614 - val_binary_accuracy: 0.8643\n",
      "Epoch 20/20\n",
      "30/30 [==============================] - 0s 13ms/step - loss: 0.0056 - binary_accuracy: 0.9996 - val_loss: 0.6981 - val_binary_accuracy: 0.8640\n"
     ]
    }
   ],
   "source": [
    "#Validation of the model\n",
    "x_val = x_train[:10000]\n",
    "partial_x_train = x_train[10000:]\n",
    "y_val = y_train[:10000]\n",
    "partial_y_train = y_train[10000:]\n",
    "\n",
    "history = model.fit(partial_x_train,\n",
    "                    partial_y_train,\n",
    "                    epochs=20,\n",
    "                    batch_size=512,\n",
    "                    validation_data=(x_val, y_val))"
   ]
  },
  {
   "cell_type": "code",
   "execution_count": 12,
   "id": "77a7bfcd",
   "metadata": {},
   "outputs": [
    {
     "data": {
      "text/plain": [
       "dict_keys(['loss', 'binary_accuracy', 'val_loss', 'val_binary_accuracy'])"
      ]
     },
     "execution_count": 12,
     "metadata": {},
     "output_type": "execute_result"
    }
   ],
   "source": [
    "history_dict = history.history\n",
    "history_dict.keys()"
   ]
  },
  {
   "cell_type": "code",
   "execution_count": 13,
   "id": "e96edda2",
   "metadata": {},
   "outputs": [
    {
     "data": {
      "image/png": "[encoded data removed]",
      "text/plain": [
       "<Figure size 432x288 with 1 Axes>"
      ]
     },
     "metadata": {
      "needs_background": "light"
     },
     "output_type": "display_data"
    }
   ],
   "source": [
    "# Data Visualization\n",
    "\n",
    "acc = history.history['binary_accuracy']\n",
    "val_acc = history.history['val_binary_accuracy']\n",
    "loss = history.history['loss']\n",
    "val_loss = history.history['val_loss']\n",
    "\n",
    "epochs = range(1, len(acc) + 1)\n",
    "\n",
    "# \"bo\" is for \"blue dot\"\n",
    "plt.plot(epochs, loss, 'bo', label='Training loss')\n",
    "# b is for \"solid blue line\"\n",
    "plt.plot(epochs, val_loss, 'b', label='Validation loss')\n",
    "plt.title('Training and validation loss')\n",
    "plt.xlabel('Epochs')\n",
    "plt.ylabel('Loss')\n",
    "plt.legend()\n",
    "\n",
    "plt.show()"
   ]
  },
  {
   "cell_type": "code",
   "execution_count": 14,
   "id": "a6ae1c04",
   "metadata": {},
   "outputs": [
    {
     "data": {
      "image/png": "[encoded data removed]",
      "text/plain": [
       "<Figure size 432x288 with 1 Axes>"
      ]
     },
     "metadata": {
      "needs_background": "light"
     },
     "output_type": "display_data"
    }
   ],
   "source": [
    "plt.clf()   # clear figure\n",
    "acc_values = history_dict['binary_accuracy']\n",
    "val_acc_values = history_dict['val_binary_accuracy']\n",
    "\n",
    "plt.plot(epochs, acc, 'bo', label='Training acc')\n",
    "plt.plot(epochs, val_acc, 'b', label='Validation acc')\n",
    "plt.title('Training and validation accuracy')\n",
    "plt.xlabel('Epochs')\n",
    "plt.ylabel('Loss')\n",
    "plt.legend()\n",
    "\n",
    "plt.show()"
   ]
  },
  {
   "cell_type": "code",
   "execution_count": 15,
   "id": "ab434b65",
   "metadata": {},
   "outputs": [
    {
     "name": "stdout",
     "output_type": "stream",
     "text": [
      "Epoch 1/4\n",
      "49/49 [==============================] - 1s 9ms/step - loss: 0.4404 - accuracy: 0.8170\n",
      "Epoch 2/4\n",
      "49/49 [==============================] - 0s 9ms/step - loss: 0.2512 - accuracy: 0.9105\n",
      "Epoch 3/4\n",
      "49/49 [==============================] - 0s 9ms/step - loss: 0.1968 - accuracy: 0.9295\n",
      "Epoch 4/4\n",
      "49/49 [==============================] - 0s 9ms/step - loss: 0.1656 - accuracy: 0.9404\n",
      "782/782 [==============================] - 1s 1ms/step - loss: 0.3289 - accuracy: 0.8718\n"
     ]
    }
   ],
   "source": [
    "#Build new model using 4 epochs\n",
    "model = models.Sequential()\n",
    "model.add(layers.Dense(16, activation='relu', input_shape=(10000,)))\n",
    "model.add(layers.Dense(16, activation='relu'))\n",
    "model.add(layers.Dense(1, activation='sigmoid'))\n",
    "\n",
    "model.compile(optimizer='rmsprop',\n",
    "              loss='binary_crossentropy',\n",
    "              metrics=['accuracy'])\n",
    "\n",
    "model.fit(x_train, y_train, epochs=4, batch_size=512)\n",
    "results = model.evaluate(x_test, y_test)"
   ]
  },
  {
   "cell_type": "code",
   "execution_count": 16,
   "id": "2ee9c3c7",
   "metadata": {},
   "outputs": [
    {
     "data": {
      "text/plain": [
       "[0.3288571834564209, 0.8718000054359436]"
      ]
     },
     "execution_count": 16,
     "metadata": {},
     "output_type": "execute_result"
    }
   ],
   "source": [
    "#Display results of naive approach\n",
    "results"
   ]
  },
  {
   "cell_type": "code",
   "execution_count": 17,
   "id": "10a71e10",
   "metadata": {},
   "outputs": [
    {
     "name": "stdout",
     "output_type": "stream",
     "text": [
      "782/782 [==============================] - 1s 990us/step\n"
     ]
    },
    {
     "data": {
      "text/plain": [
       "array([[0.3457677 ],\n",
       "       [0.99996424],\n",
       "       [0.9860464 ],\n",
       "       ...,\n",
       "       [0.22828163],\n",
       "       [0.13901812],\n",
       "       [0.76328766]], dtype=float32)"
      ]
     },
     "execution_count": 17,
     "metadata": {},
     "output_type": "execute_result"
    }
   ],
   "source": [
    "#Predict the results\n",
    "model.predict(x_test)"
   ]
  },
  {
   "cell_type": "markdown",
   "id": "ff83b921",
   "metadata": {},
   "source": [
    "# Assignment 5.2 - News Classifier"
   ]
  },
  {
   "cell_type": "code",
   "execution_count": 18,
   "id": "75dbd4e0",
   "metadata": {},
   "outputs": [],
   "source": [
    "#importing data set\n",
    "from keras.datasets import reuters"
   ]
  },
  {
   "cell_type": "code",
   "execution_count": 19,
   "id": "567490b6",
   "metadata": {},
   "outputs": [],
   "source": [
    "#Splitting data\n",
    "(train_data, train_labels), (test_data, test_labels) = reuters.load_data(num_words=10000)"
   ]
  },
  {
   "cell_type": "code",
   "execution_count": 20,
   "id": "3ad71e9b",
   "metadata": {},
   "outputs": [],
   "source": [
    "#Data preparation using same vectorizer from 5.1\n",
    "x_train = vectorize_sequence(train_data)\n",
    "x_test = vectorize_sequence(test_data)"
   ]
  },
  {
   "cell_type": "code",
   "execution_count": 21,
   "id": "54b826ab",
   "metadata": {},
   "outputs": [],
   "source": [
    "#One hot encoding\n",
    "def to_one_hot(labels, dimension=46):\n",
    "    results = np.zeros((len(labels), dimension))\n",
    "    for i, label in enumerate(labels):\n",
    "        results[i, label] = 1.\n",
    "    return results"
   ]
  },
  {
   "cell_type": "code",
   "execution_count": 22,
   "id": "25f22b7c",
   "metadata": {},
   "outputs": [],
   "source": [
    "# Vectorized training and test labels\n",
    "one_hot_train_labels = to_one_hot(train_labels)\n",
    "one_hot_test_labels = to_one_hot(test_labels)"
   ]
  },
  {
   "cell_type": "code",
   "execution_count": 23,
   "id": "54decc71",
   "metadata": {},
   "outputs": [],
   "source": [
    "from keras.utils.np_utils import to_categorical\n",
    "one_hot_train_labels = to_categorical(train_labels)\n",
    "one_hot_test_labels = to_categorical(test_labels)"
   ]
  },
  {
   "cell_type": "code",
   "execution_count": 24,
   "id": "1cbfecf5",
   "metadata": {},
   "outputs": [],
   "source": [
    "#Building model\n",
    "model = models.Sequential()\n",
    "model.add(layers.Dense(64, activation='relu', input_shape=(10000,)))\n",
    "model.add(layers.Dense(64, activation='relu'))\n",
    "model.add(layers.Dense(46, activation='softmax'))"
   ]
  },
  {
   "cell_type": "code",
   "execution_count": 25,
   "id": "a1a91eba",
   "metadata": {},
   "outputs": [],
   "source": [
    "#Model compilation\n",
    "model.compile(optimizer='rmsprop',\n",
    "              loss='categorical_crossentropy',\n",
    "              metrics=['accuracy'])"
   ]
  },
  {
   "cell_type": "code",
   "execution_count": 26,
   "id": "0934f8d3",
   "metadata": {},
   "outputs": [
    {
     "name": "stdout",
     "output_type": "stream",
     "text": [
      "Epoch 1/20\n",
      "16/16 [==============================] - 1s 26ms/step - loss: 2.7911 - accuracy: 0.5455 - val_loss: 1.8878 - val_accuracy: 0.6580\n",
      "Epoch 2/20\n",
      "16/16 [==============================] - 0s 17ms/step - loss: 1.5126 - accuracy: 0.7037 - val_loss: 1.3432 - val_accuracy: 0.7330\n",
      "Epoch 3/20\n",
      "16/16 [==============================] - 0s 16ms/step - loss: 1.0858 - accuracy: 0.7726 - val_loss: 1.1792 - val_accuracy: 0.7350\n",
      "Epoch 4/20\n",
      "16/16 [==============================] - 0s 16ms/step - loss: 0.8578 - accuracy: 0.8211 - val_loss: 1.0532 - val_accuracy: 0.7860\n",
      "Epoch 5/20\n",
      "16/16 [==============================] - 0s 16ms/step - loss: 0.6819 - accuracy: 0.8616 - val_loss: 0.9824 - val_accuracy: 0.8100\n",
      "Epoch 6/20\n",
      "16/16 [==============================] - 0s 16ms/step - loss: 0.5530 - accuracy: 0.8866 - val_loss: 0.9308 - val_accuracy: 0.8150\n",
      "Epoch 7/20\n",
      "16/16 [==============================] - 0s 17ms/step - loss: 0.4455 - accuracy: 0.9095 - val_loss: 0.9095 - val_accuracy: 0.8170\n",
      "Epoch 8/20\n",
      "16/16 [==============================] - 0s 16ms/step - loss: 0.3650 - accuracy: 0.9236 - val_loss: 0.9009 - val_accuracy: 0.8250\n",
      "Epoch 9/20\n",
      "16/16 [==============================] - 0s 17ms/step - loss: 0.3028 - accuracy: 0.9356 - val_loss: 0.9291 - val_accuracy: 0.8230\n",
      "Epoch 10/20\n",
      "16/16 [==============================] - 0s 16ms/step - loss: 0.2606 - accuracy: 0.9416 - val_loss: 0.8856 - val_accuracy: 0.8270\n",
      "Epoch 11/20\n",
      "16/16 [==============================] - 0s 15ms/step - loss: 0.2234 - accuracy: 0.9478 - val_loss: 0.9098 - val_accuracy: 0.8240\n",
      "Epoch 12/20\n",
      "16/16 [==============================] - 0s 16ms/step - loss: 0.1931 - accuracy: 0.9485 - val_loss: 0.9140 - val_accuracy: 0.8270\n",
      "Epoch 13/20\n",
      "16/16 [==============================] - 0s 16ms/step - loss: 0.1749 - accuracy: 0.9528 - val_loss: 0.9387 - val_accuracy: 0.8230\n",
      "Epoch 14/20\n",
      "16/16 [==============================] - 0s 16ms/step - loss: 0.1579 - accuracy: 0.9538 - val_loss: 0.9435 - val_accuracy: 0.8190\n",
      "Epoch 15/20\n",
      "16/16 [==============================] - 0s 16ms/step - loss: 0.1448 - accuracy: 0.9543 - val_loss: 0.9915 - val_accuracy: 0.8170\n",
      "Epoch 16/20\n",
      "16/16 [==============================] - 0s 17ms/step - loss: 0.1393 - accuracy: 0.9555 - val_loss: 1.0126 - val_accuracy: 0.8110\n",
      "Epoch 17/20\n",
      "16/16 [==============================] - 0s 22ms/step - loss: 0.1314 - accuracy: 0.9563 - val_loss: 1.0071 - val_accuracy: 0.8140\n",
      "Epoch 18/20\n",
      "16/16 [==============================] - 0s 23ms/step - loss: 0.1205 - accuracy: 0.9568 - val_loss: 1.0147 - val_accuracy: 0.8110\n",
      "Epoch 19/20\n",
      "16/16 [==============================] - 0s 21ms/step - loss: 0.1190 - accuracy: 0.9568 - val_loss: 1.0499 - val_accuracy: 0.8120\n",
      "Epoch 20/20\n",
      "16/16 [==============================] - 0s 16ms/step - loss: 0.1199 - accuracy: 0.9577 - val_loss: 1.0805 - val_accuracy: 0.8000\n"
     ]
    }
   ],
   "source": [
    "#Model validation\n",
    "x_val = x_train[:1000]\n",
    "partial_x_train = x_train[1000:]\n",
    "y_val = one_hot_train_labels[:1000]\n",
    "partial_y_train = one_hot_train_labels[1000:]\n",
    "\n",
    "history = model.fit(partial_x_train,\n",
    "                    partial_y_train,\n",
    "                    epochs=20,\n",
    "                    batch_size=512,\n",
    "                    validation_data=(x_val, y_val))"
   ]
  },
  {
   "cell_type": "code",
   "execution_count": 27,
   "id": "5a98149b",
   "metadata": {},
   "outputs": [
    {
     "data": {
      "image/png": "[encoded data removed]",
      "text/plain": [
       "<Figure size 432x288 with 1 Axes>"
      ]
     },
     "metadata": {
      "needs_background": "light"
     },
     "output_type": "display_data"
    }
   ],
   "source": [
    "#Data Visualization\n",
    "loss = history.history['loss']\n",
    "val_loss = history.history['val_loss']\n",
    "\n",
    "epochs = range(1, len(loss) + 1)\n",
    "\n",
    "plt.plot(epochs, loss, 'bo', label='Training loss')\n",
    "plt.plot(epochs, val_loss, 'b', label='Validation loss')\n",
    "plt.title('Training and validation loss')\n",
    "plt.xlabel('Epochs')\n",
    "plt.ylabel('Loss')\n",
    "plt.legend()\n",
    "\n",
    "plt.show()"
   ]
  },
  {
   "cell_type": "code",
   "execution_count": 28,
   "id": "7441172a",
   "metadata": {},
   "outputs": [
    {
     "data": {
      "image/png": "[encoded data removed]",
      "text/plain": [
       "<Figure size 432x288 with 1 Axes>"
      ]
     },
     "metadata": {
      "needs_background": "light"
     },
     "output_type": "display_data"
    }
   ],
   "source": [
    "plt.clf()   # clear figure\n",
    "\n",
    "acc = history.history['accuracy']\n",
    "val_acc = history.history['val_accuracy']\n",
    "\n",
    "plt.plot(epochs, acc, 'bo', label='Training acc')\n",
    "plt.plot(epochs, val_acc, 'b', label='Validation acc')\n",
    "plt.title('Training and validation accuracy')\n",
    "plt.xlabel('Epochs')\n",
    "plt.ylabel('Loss')\n",
    "plt.legend()\n",
    "\n",
    "plt.show()"
   ]
  },
  {
   "cell_type": "code",
   "execution_count": 29,
   "id": "9f4a6f15",
   "metadata": {},
   "outputs": [
    {
     "name": "stdout",
     "output_type": "stream",
     "text": [
      "Epoch 1/8\n",
      "16/16 [==============================] - 1s 24ms/step - loss: 2.6462 - accuracy: 0.5449 - val_loss: 1.7509 - val_accuracy: 0.6340\n",
      "Epoch 2/8\n",
      "16/16 [==============================] - 0s 16ms/step - loss: 1.4434 - accuracy: 0.6998 - val_loss: 1.3178 - val_accuracy: 0.7120\n",
      "Epoch 3/8\n",
      "16/16 [==============================] - 0s 16ms/step - loss: 1.0614 - accuracy: 0.7680 - val_loss: 1.1424 - val_accuracy: 0.7420\n",
      "Epoch 4/8\n",
      "16/16 [==============================] - 0s 16ms/step - loss: 0.8332 - accuracy: 0.8216 - val_loss: 1.0297 - val_accuracy: 0.7730\n",
      "Epoch 5/8\n",
      "16/16 [==============================] - 0s 17ms/step - loss: 0.6614 - accuracy: 0.8644 - val_loss: 0.9583 - val_accuracy: 0.7890\n",
      "Epoch 6/8\n",
      "16/16 [==============================] - 0s 16ms/step - loss: 0.5279 - accuracy: 0.8899 - val_loss: 0.9222 - val_accuracy: 0.8000\n",
      "Epoch 7/8\n",
      "16/16 [==============================] - 0s 16ms/step - loss: 0.4235 - accuracy: 0.9156 - val_loss: 0.8896 - val_accuracy: 0.8100\n",
      "Epoch 8/8\n",
      "16/16 [==============================] - 0s 15ms/step - loss: 0.3462 - accuracy: 0.9278 - val_loss: 0.8902 - val_accuracy: 0.8110\n",
      "71/71 [==============================] - 0s 2ms/step - loss: 0.9941 - accuracy: 0.7814\n"
     ]
    }
   ],
   "source": [
    "model = models.Sequential()\n",
    "model.add(layers.Dense(64, activation='relu', input_shape=(10000,)))\n",
    "model.add(layers.Dense(64, activation='relu'))\n",
    "model.add(layers.Dense(46, activation='softmax'))\n",
    "\n",
    "model.compile(optimizer='rmsprop',\n",
    "              loss='categorical_crossentropy',\n",
    "              metrics=['accuracy'])\n",
    "model.fit(partial_x_train,\n",
    "          partial_y_train,\n",
    "          epochs=8,\n",
    "          batch_size=512,\n",
    "          validation_data=(x_val, y_val))\n",
    "results = model.evaluate(x_test, one_hot_test_labels)"
   ]
  },
  {
   "cell_type": "code",
   "execution_count": 30,
   "id": "18b80b53",
   "metadata": {},
   "outputs": [
    {
     "name": "stdout",
     "output_type": "stream",
     "text": [
      "[0.9941007494926453, 0.7813891172409058]\n"
     ]
    }
   ],
   "source": [
    "#Results of naive model\n",
    "print(results)"
   ]
  },
  {
   "cell_type": "code",
   "execution_count": 31,
   "id": "e990233a",
   "metadata": {},
   "outputs": [
    {
     "data": {
      "text/plain": [
       "0.182546749777382"
      ]
     },
     "execution_count": 31,
     "metadata": {},
     "output_type": "execute_result"
    }
   ],
   "source": [
    "test_labels_copy = copy.copy(test_labels)\n",
    "np.random.shuffle(test_labels_copy)\n",
    "float(np.sum(np.array(test_labels) == np.array(test_labels_copy))) / len(test_labels)"
   ]
  },
  {
   "cell_type": "markdown",
   "id": "fb0f8116",
   "metadata": {},
   "source": [
    "# Assignment 5.3 - Housing Prices"
   ]
  },
  {
   "cell_type": "code",
   "execution_count": 32,
   "id": "e4f69cf6",
   "metadata": {},
   "outputs": [],
   "source": [
    "#Import data\n",
    "from keras.datasets import boston_housing"
   ]
  },
  {
   "cell_type": "code",
   "execution_count": 33,
   "id": "8581ab6a",
   "metadata": {},
   "outputs": [],
   "source": [
    "#Splitting data\n",
    "(train_data, train_targets), (test_data, test_targets) =  boston_housing.load_data()"
   ]
  },
  {
   "cell_type": "code",
   "execution_count": 34,
   "id": "0b2d1b9e",
   "metadata": {},
   "outputs": [],
   "source": [
    "#Data preparation\n",
    "\n",
    "mean = train_data.mean(axis=0)\n",
    "train_data -= mean\n",
    "std = train_data.std(axis=0)\n",
    "train_data /= std\n",
    "\n",
    "test_data -= mean\n",
    "test_data /= std"
   ]
  },
  {
   "cell_type": "code",
   "execution_count": 35,
   "id": "e845e576",
   "metadata": {},
   "outputs": [],
   "source": [
    "#Building model\n",
    "def build_model():\n",
    "    model = models.Sequential()\n",
    "    model.add(layers.Dense(64, activation='relu',\n",
    "                           input_shape=(train_data.shape[1],)))\n",
    "    model.add(layers.Dense(64, activation='relu'))\n",
    "    model.add(layers.Dense(1))\n",
    "    model.compile(optimizer='rmsprop', loss='mse', metrics=['mae'])\n",
    "    return model"
   ]
  },
  {
   "cell_type": "code",
   "execution_count": 36,
   "id": "25ff77f3",
   "metadata": {},
   "outputs": [
    {
     "name": "stdout",
     "output_type": "stream",
     "text": [
      "processing fold # 0\n",
      "processing fold # 1\n",
      "processing fold # 2\n",
      "processing fold # 3\n"
     ]
    }
   ],
   "source": [
    "#Model Validation\n",
    "k = 4\n",
    "num_val_samples = len(train_data) // k\n",
    "num_epochs = 100\n",
    "all_scores = []\n",
    "for i in range(k):\n",
    "    print('processing fold #', i)\n",
    "    # Prepare the validation data: data from partition # k\n",
    "    val_data = train_data[i * num_val_samples: (i + 1) * num_val_samples]\n",
    "    val_targets = train_targets[i * num_val_samples: (i + 1) * num_val_samples]\n",
    "\n",
    "    # Prepare the training data: data from all other partitions\n",
    "    partial_train_data = np.concatenate(\n",
    "        [train_data[:i * num_val_samples],\n",
    "         train_data[(i + 1) * num_val_samples:]],\n",
    "        axis=0)\n",
    "    partial_train_targets = np.concatenate(\n",
    "        [train_targets[:i * num_val_samples],\n",
    "         train_targets[(i + 1) * num_val_samples:]],\n",
    "        axis=0)\n",
    "\n",
    "    # Build the Keras model (already compiled)\n",
    "    model = build_model()\n",
    "    # Train the model (in silent mode, verbose=0)\n",
    "    model.fit(partial_train_data, partial_train_targets,\n",
    "              epochs=num_epochs, batch_size=1, verbose=0)\n",
    "    # Evaluate the model on the validation data\n",
    "    val_mse, val_mae = model.evaluate(val_data, val_targets, verbose=0)\n",
    "    all_scores.append(val_mae)"
   ]
  },
  {
   "cell_type": "code",
   "execution_count": 37,
   "id": "37d030ff",
   "metadata": {},
   "outputs": [
    {
     "name": "stdout",
     "output_type": "stream",
     "text": [
      "[2.0773348808288574, 2.6227023601531982, 2.5399224758148193, 2.4558420181274414]\n",
      "2.423950433731079\n"
     ]
    }
   ],
   "source": [
    "#Printing scores\n",
    "print(all_scores)\n",
    "print(np.mean(all_scores))"
   ]
  },
  {
   "cell_type": "code",
   "execution_count": 38,
   "id": "000b76a0",
   "metadata": {},
   "outputs": [],
   "source": [
    "from keras import backend as K\n",
    "# Clear session\n",
    "K.clear_session()"
   ]
  },
  {
   "cell_type": "code",
   "execution_count": 39,
   "id": "db9f939a",
   "metadata": {},
   "outputs": [
    {
     "name": "stdout",
     "output_type": "stream",
     "text": [
      "processing fold # 0\n",
      "processing fold # 1\n",
      "processing fold # 2\n",
      "processing fold # 3\n"
     ]
    }
   ],
   "source": [
    "num_epochs = 500\n",
    "all_mae_histories = []\n",
    "for i in range(k):\n",
    "    print('processing fold #', i)\n",
    "    # Prepare the validation data: data from partition # k\n",
    "    val_data = train_data[i * num_val_samples: (i + 1) * num_val_samples]\n",
    "    val_targets = train_targets[i * num_val_samples: (i + 1) * num_val_samples]\n",
    "\n",
    "    # Prepare the training data: data from all other partitions\n",
    "    partial_train_data = np.concatenate(\n",
    "        [train_data[:i * num_val_samples],\n",
    "         train_data[(i + 1) * num_val_samples:]],\n",
    "        axis=0)\n",
    "    partial_train_targets = np.concatenate(\n",
    "        [train_targets[:i * num_val_samples],\n",
    "         train_targets[(i + 1) * num_val_samples:]],\n",
    "        axis=0)\n",
    "\n",
    "    # Build the Keras model (already compiled)\n",
    "    model = build_model()\n",
    "    # Train the model (in silent mode, verbose=0)\n",
    "    history = model.fit(partial_train_data, partial_train_targets,\n",
    "                        validation_data=(val_data, val_targets),\n",
    "                        epochs=num_epochs, batch_size=1, verbose=0)\n",
    "    mae_history = history.history['mae']\n",
    "    all_mae_histories.append(mae_history)"
   ]
  },
  {
   "cell_type": "code",
   "execution_count": 40,
   "id": "1be3ae2e",
   "metadata": {},
   "outputs": [],
   "source": [
    "average_mae_history = [\n",
    "    np.mean([x[i] for x in all_mae_histories]) for i in range(num_epochs)]"
   ]
  },
  {
   "cell_type": "code",
   "execution_count": 41,
   "id": "8afaaf97",
   "metadata": {},
   "outputs": [
    {
     "data": {
      "image/png": "[encoded data removed]",
      "text/plain": [
       "<Figure size 432x288 with 1 Axes>"
      ]
     },
     "metadata": {
      "needs_background": "light"
     },
     "output_type": "display_data"
    }
   ],
   "source": [
    "plt.plot(range(1, len(average_mae_history) + 1), average_mae_history)\n",
    "plt.xlabel('Epochs')\n",
    "plt.ylabel('MAE Validation')\n",
    "plt.show()"
   ]
  },
  {
   "cell_type": "code",
   "execution_count": 43,
   "id": "10e4f68c",
   "metadata": {},
   "outputs": [
    {
     "data": {
      "image/png": "[encoded data removed]",
      "text/plain": [
       "<Figure size 432x288 with 1 Axes>"
      ]
     },
     "metadata": {
      "needs_background": "light"
     },
     "output_type": "display_data"
    }
   ],
   "source": [
    "def smooth_curve(points, factor=0.9):\n",
    "    smoothed_points = []\n",
    "    for point in points:\n",
    "        if smoothed_points:\n",
    "            previous = smoothed_points[-1]\n",
    "            smoothed_points.append(previous * factor + point * (1 - factor))\n",
    "        else:\n",
    "            smoothed_points.append(point)\n",
    "    return smoothed_points\n",
    "\n",
    "smooth_mae_history = smooth_curve(average_mae_history[10:])\n",
    "\n",
    "plt.plot(range(1, len(smooth_mae_history) + 1), smooth_mae_history)\n",
    "plt.xlabel('Epochs')\n",
    "plt.ylabel('MAE Validation')\n",
    "plt.show()"
   ]
  },
  {
   "cell_type": "code",
   "execution_count": 44,
   "id": "ad89d521",
   "metadata": {},
   "outputs": [
    {
     "name": "stdout",
     "output_type": "stream",
     "text": [
      "4/4 [==============================] - 0s 2ms/step - loss: 17.6108 - mae: 2.7527\n"
     ]
    }
   ],
   "source": [
    "# Get a fresh, compiled model\n",
    "model = build_model()\n",
    "# Train it on the entire dataset\n",
    "model.fit(train_data, train_targets,\n",
    "          epochs=80, batch_size=16, verbose=0)\n",
    "test_mse_score, test_mae_score = model.evaluate(test_data, test_targets)"
   ]
  },
  {
   "cell_type": "code",
   "execution_count": 45,
   "id": "74f21fc9",
   "metadata": {},
   "outputs": [
    {
     "data": {
      "text/plain": [
       "2.7526745796203613"
      ]
     },
     "execution_count": 45,
     "metadata": {},
     "output_type": "execute_result"
    }
   ],
   "source": [
    "test_mae_score"
   ]
  },
  {
   "cell_type": "code",
   "execution_count": null,
   "id": "99a5f8da",
   "metadata": {},
   "outputs": [],
   "source": []
  }
 ],
 "metadata": {
  "kernelspec": {
   "display_name": "Python 3 (ipykernel)",
   "language": "python",
   "name": "python3"
  },
  "language_info": {
   "codemirror_mode": {
    "name": "ipython",
    "version": 3
   },
   "file_extension": ".py",
   "mimetype": "text/x-python",
   "name": "python",
   "nbconvert_exporter": "python",
   "pygments_lexer": "ipython3",
   "version": "3.9.12"
  }
 },
 "nbformat": 4,
 "nbformat_minor": 5
}
